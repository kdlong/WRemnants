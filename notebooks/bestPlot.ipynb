{
 "cells": [
  {
   "cell_type": "code",
   "execution_count": 20,
   "id": "e49c5c3d-5615-4ef7-94ef-08ac3bd9762f",
   "metadata": {},
   "outputs": [],
   "source": [
    "import ROOT"
   ]
  },
  {
   "cell_type": "code",
   "execution_count": 21,
   "id": "bbb106dc-e5b0-4712-b6a2-023ff9e06184",
   "metadata": {},
   "outputs": [],
   "source": [
    "f = ROOT.TFile(\"/scratch/submit/cms/kdlong/CombineStudies/WMass_eta_pt_charge_statOnly_root/WMassCombineInput.root\")"
   ]
  },
  {
   "cell_type": "code",
   "execution_count": 22,
   "id": "3a05f598-26f7-4d3e-912f-1d6cca47edd8",
   "metadata": {},
   "outputs": [],
   "source": [
    "d = f.Get(\"Data\")"
   ]
  },
  {
   "cell_type": "code",
   "execution_count": 23,
   "id": "6648d83b-b8b1-4e9f-8819-dc2bb9816305",
   "metadata": {},
   "outputs": [],
   "source": [
    "h = d.Get(\"nominal_Data_plus\")"
   ]
  },
  {
   "cell_type": "code",
   "execution_count": 24,
   "id": "4729e7ab-7ff3-41eb-8e99-9089d4996898",
   "metadata": {},
   "outputs": [],
   "source": [
    "h.Draw(\"LEGO2Z\")\n",
    "h.GetXaxis().SetTitle(\"$p_{T}$ (GeV)\")\n",
    "h.GetYaxis().SetTitle(\"$\\eta$\")"
   ]
  },
  {
   "cell_type": "code",
   "execution_count": 25,
   "id": "a5787826-3b64-4905-aeda-f7d8f5898ec7",
   "metadata": {},
   "outputs": [],
   "source": [
    "canvas = ROOT.gROOT.FindObject(\"c1\")"
   ]
  },
  {
   "cell_type": "code",
   "execution_count": 26,
   "id": "4b7874e8-04b0-4f09-be54-91f305366fba",
   "metadata": {},
   "outputs": [
    {
     "data": {
      "text/plain": [
       "<cppyy.gbl.TCanvas object at 0x5595f1209180>"
      ]
     },
     "execution_count": 26,
     "metadata": {},
     "output_type": "execute_result"
    }
   ],
   "source": [
    "canvas"
   ]
  },
  {
   "cell_type": "code",
   "execution_count": 27,
   "id": "12d75111-c1ea-484d-90da-21a22286dec7",
   "metadata": {},
   "outputs": [
    {
     "name": "stderr",
     "output_type": "stream",
     "text": [
      "Info in <TCanvas::Print>: ps file c1.ps has been created\n"
     ]
    }
   ],
   "source": [
    "canvas.Print()"
   ]
  }
 ],
 "metadata": {
  "kernelspec": {
   "display_name": "Python 3 (ipykernel)",
   "language": "python",
   "name": "python3"
  },
  "language_info": {
   "codemirror_mode": {
    "name": "ipython",
    "version": 3
   },
   "file_extension": ".py",
   "mimetype": "text/x-python",
   "name": "python",
   "nbconvert_exporter": "python",
   "pygments_lexer": "ipython3",
   "version": "3.11.6"
  }
 },
 "nbformat": 4,
 "nbformat_minor": 5
}
