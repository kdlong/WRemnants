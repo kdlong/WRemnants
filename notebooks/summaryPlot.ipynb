{
 "cells": [
  {
   "cell_type": "code",
   "execution_count": null,
   "id": "28ebf954",
   "metadata": {},
   "outputs": [],
   "source": [
    "from utilities.io_tools import input_tools,combinetf_input,output_tools\n",
    "from wremnants import plot_tools,theory_tools\n",
    "import pandas as pd\n",
    "import numpy as np\n",
    "import matplotlib.pyplot as plt\n",
    "import mplhep as hep\n",
    "import matplotlib"
   ]
  },
  {
   "cell_type": "code",
   "execution_count": null,
   "id": "9f398cb3",
   "metadata": {},
   "outputs": [],
   "source": [
    "%load_ext autoreload\n",
    "%autoreload 2"
   ]
  },
  {
   "cell_type": "code",
   "execution_count": null,
   "id": "576408c4",
   "metadata": {},
   "outputs": [],
   "source": [
    "def res_df(val, unc):\n",
    "    return pandas.DataFrame"
   ]
  },
  {
   "cell_type": "code",
   "execution_count": null,
   "id": "2741f26b",
   "metadata": {},
   "outputs": [],
   "source": [
    "dfs = {\"ATLAS\" : pd.DataFrame.from_dict({\"mass\" : [80], \"stat_err\" : [10], \"tot_err\" : [15]})}"
   ]
  },
  {
   "cell_type": "code",
   "execution_count": null,
   "id": "97d5607c",
   "metadata": {},
   "outputs": [],
   "source": [
    "df1 = combinetf_input.read_groupunc_df(\"/scratch/kelong/CombineStudies/WMass_eta_pt_charge_noFakeNonClosUnc/fitresults_123456789.hdf5\", [\"Fake\",], name=\"Nominal, no param. unc.\")"
   ]
  },
  {
   "cell_type": "code",
   "execution_count": null,
   "id": "2201f70e-df91-43ac-9662-38397e74f63e",
   "metadata": {},
   "outputs": [],
   "source": [
    "df2 = combinetf_input.read_groupunc_df(\"/scratch/dwalter/CombineStudies/240820_mw_unblinding/WMass_eta_pt_charge/fitresults_123456789_data.hdf5\", [\"Fake\",], name=\"Nominal\")\n"
   ]
  },
  {
   "cell_type": "code",
   "execution_count": null,
   "id": "072c6189-7269-46e0-9994-5175f684bdb9",
   "metadata": {},
   "outputs": [],
   "source": [
    "df = combinetf_input.read_all_groupunc_df(\n",
    "    [\"/scratch/dwalter/CombineStudies/240820_mw_unblinding/WMass_eta_pt_charge/fitresults_123456789_data.hdf5\", \n",
    "     \"/scratch/kelong/CombineStudies/WMass_eta_pt_charge_noFakeNonClosUnc/fitresults_123456789_blind.hdf5\",\n",
    "     \"/scratch/dwalter/CombineStudies/240820_mw_unblinding/WMass_eta_pt_charge_hybrid/WMass_eta_pt_charge_hybrid/fitresults_123456789_data.hdf5\",\n",
    "     \"/scratch/kelong/CombineStudies/WMass_eta_pt_charge_smoothFR/fitresults_123456789_blind.hdf5\",\n",
    "    ],\n",
    "     [\"Fake\",], names=[\"Nominal\", \"Nominal, no param. unc.\", \"Hybrid smoothing\", \"Smooth FR\",])\n"
   ]
  },
  {
   "cell_type": "code",
   "execution_count": null,
   "id": "6f3bae7a-aca0-4777-a45b-670ac03d1e14",
   "metadata": {},
   "outputs": [],
   "source": [
    "df"
   ]
  },
  {
   "cell_type": "code",
   "execution_count": null,
   "id": "a0b0bbca",
   "metadata": {},
   "outputs": [],
   "source": [
    "out, outfolder = \"/eos/user/k/kelong/www/WMassAnalysis/2024Aug_Unblinded\", \"W\"\n",
    "outdir = output_tools.make_plot_dir(out, outfolder, eoscp=True)\n",
    "nomdf = df[df[\"Name\"] == \"Nominal\"]\n",
    "fig = plot_tools.make_summary_plot(nomdf[\"value\"][0], nomdf[\"err_Fake\"][0], \"Nominal $\\pm$ fake unc.\",\n",
    "    df,\n",
    "    colors=\"auto\",\n",
    "    xlim=[80000, 80200],\n",
    "    xlabel=\"$m_{W}$ (MeV)\", out=\"test\",\n",
    "    outfolder=\"W\", name=\"temp\",\n",
    "    legend_loc=\"upper right\",\n",
    ")\n",
    "name = \"fakeSummary\"\n",
    "plot_tools.save_pdf_and_png(outdir, name, fig)\n",
    "plot_tools.write_index_and_log(outdir, name)\n",
    "output_tools.copy_to_eos(outdir, out, outfolder)"
   ]
  },
  {
   "cell_type": "code",
   "execution_count": null,
   "id": "2639fa26-41b4-4330-8db7-8f95fb3d2a7a",
   "metadata": {},
   "outputs": [],
   "source": [
    "dfw = pd.DataFrame.from_dict({\n",
    "    \"Name\" : [\"LEP Combination\", \"D0\", \"CDF\", \"LHCb\", \"ATLAS\",],\n",
    "    \"value\" : [80376, 80375, 80434, 80354, 80366],\n",
    "    \"err_total\" : [33, 23, 9.4, 32, 15.9],\n",
    "    \"err_stat\" : [25, 11, 6.4, 23, 9.8],\n",
    "    \"Reference\" : [\"Phys. Rep. 532 (2013) 119\", \"Phys. Rev. Lett. 108 (2012) 151804\",\n",
    "                  \"Science 376 (2022) 6589\", \"JHEP 01 (2022) 036\", \"\", ],\n",
    "})\n"
   ]
  },
  {
   "cell_type": "code",
   "execution_count": null,
   "id": "3d146b12-5eb1-40cf-b013-de26b0dada50",
   "metadata": {},
   "outputs": [],
   "source": [
    "cms_res = combinetf_input.read_groupunc_df(\"/scratch/dwalter/CombineStudies/240820_mw_unblinding/WMass_eta_pt_charge/fitresults_123456789_unblind.hdf5\", [\"stat\",], name=\"CMS\")"
   ]
  },
  {
   "cell_type": "code",
   "execution_count": null,
   "id": "e28402d2-9b5a-484a-ba7f-9112c369bb06",
   "metadata": {},
   "outputs": [],
   "source": [
    "#cms_res.loc[0,\"value\"] = 80355\n",
    "cms_res[\"Reference\"] = [\"This work\"]"
   ]
  },
  {
   "cell_type": "code",
   "execution_count": null,
   "id": "746bdb37-a30e-456e-98de-375c80a3b084",
   "metadata": {},
   "outputs": [],
   "source": [
    "dfw_cms = pd.concat((dfw, cms_res), ignore_index=True)"
   ]
  },
  {
   "cell_type": "code",
   "execution_count": null,
   "id": "56dbc96c-ed23-4f27-a095-c342f589d359",
   "metadata": {},
   "outputs": [],
   "source": [
    "matplotlib.rc('text', usetex = False)"
   ]
  },
  {
   "cell_type": "code",
   "execution_count": null,
   "id": "b487d515-33c8-42d9-b0b9-a2b7150fd33d",
   "metadata": {},
   "outputs": [],
   "source": [
    "out, outfolder = \"/eos/user/c/cmsmwbot/www/WMassAnalysis/PlotsForPaper/NaturePreCWR\", \"W\"\n",
    "outdir = output_tools.make_plot_dir(out, outfolder, eoscp=True)\n",
    "name = \"resultsSummary\"\n",
    "fig = plot_tools.make_summary_plot(80353, 6, None,\n",
    "    dfw_cms,\n",
    "    colors=[\"black\"]*5+[\"#5790FC\"],\n",
    "    xlim=[80260, 80460],\n",
    "    xlabel=\"$m_{W}$ (MeV)\", out=outdir[:-2], outfolder=outfolder,\n",
    "    name=name,\n",
    "    legend_loc=None,\n",
    "    capsize=6,\n",
    "    fontsize=18,\n",
    "    width_scale=1.25,\n",
    "    cms_label=' ',\n",
    ")\n",
    "ax = plt.gca()\n",
    "for i,row in dfw_cms.iterrows():\n",
    "    isCMS = row.loc[\"Name\"] == \"CMS\" \n",
    "    ax.annotate(row.loc[\"Name\"], (80170, 6.4-i*1.1), fontsize=18, ha=\"left\", annotation_clip=False, color=\"#5790FC\" if isCMS else \"black\", weight=600)\n",
    "    ax.annotate(row.loc[\"Reference\"], (80170, 6.4-i*1.1-0.3), fontsize=10, ha=\"left\", color=\"dimgrey\", annotation_clip=False, style='italic' if isCMS else None)\n",
    "    label = f\"$m_{{W}}$ = {row.loc['value']:.0f} $\\pm$ {round(row.loc['err_total'], 0):.0f}\"\n",
    "    if row.loc[\"Name\"] in [\"CMS\", \"CDF\"]:\n",
    "        label = f\"$m_{{W}}$ = {row.loc['value']:.1f} $\\pm$ {round(row.loc['err_total'], 1):.1f}\"\n",
    "    ax.annotate(label, (80170, 6.4-i*1.1-0.6), fontsize=10, ha=\"left\", color=\"dimgrey\", annotation_clip=False)\n",
    "\n",
    "plot_tools.save_pdf_and_png(outdir, name, fig)\n",
    "plot_tools.write_index_and_log(outdir, name)\n",
    "output_tools.copy_to_eos(outdir, out, outfolder)"
   ]
  },
  {
   "cell_type": "code",
   "execution_count": null,
   "id": "6b4b9bbe-e332-4f51-adb4-5ca5bb07e3b8",
   "metadata": {},
   "outputs": [],
   "source": [
    "out, outfolder = \"/eos/user/k/kelong/www/WMassAnalysis/2024Aug_Unblinded\", \"W\"\n",
    "outdir = output_tools.make_plot_dir(out, outfolder, eoscp=True)\n",
    "name = \"resultsSummaryNoCMS\"\n",
    "fig = plot_tools.make_summary_plot(80353, 6, None,\n",
    "    dfw,\n",
    "    colors=[\"black\"]*5,\n",
    "    xlim=[80260, 80460],\n",
    "    xlabel=\"$m_{W}$ (MeV)\", out=outdir[:-2], outfolder=outfolder,\n",
    "    name=name,\n",
    "    legend_loc=None,\n",
    "    capsize=6,\n",
    "    fontsize=18,\n",
    "    width_scale=1.25,\n",
    "    cms_label=None,\n",
    ")\n",
    "ax = plt.gca()\n",
    "for i,row in dfw.iterrows():\n",
    "    isCMS = row.loc[\"Name\"] == \"CMS\" \n",
    "    ax.annotate(row.loc[\"Name\"], (80170, 5.4-i*1.1), fontsize=18, ha=\"left\", annotation_clip=False, color=\"#5790FC\" if isCMS else \"black\", weight=600)\n",
    "    ax.annotate(row.loc[\"Reference\"], (80170, 5.4-i*1.1-0.3), fontsize=10, ha=\"left\", color=\"dimgrey\", annotation_clip=False, style='italic' if isCMS else None)\n",
    "    label = f\"$m_{{W}}$ = {row.loc['value']:.0f} $\\pm$ {round(row.loc['err_total'], 0):.0f}\"\n",
    "    if row.loc[\"Name\"] in [\"CMS\", \"CDF\"]:\n",
    "        label = f\"$m_{{W}}$ = {row.loc['value']:.1f} $\\pm$ {round(row.loc['err_total'], 1):.1f}\"\n",
    "    ax.annotate(label, (80170, 5.4-i*1.1-0.6), fontsize=10, ha=\"left\", color=\"dimgrey\", annotation_clip=False)\n",
    "\n",
    "plot_tools.save_pdf_and_png(outdir, name, fig)\n",
    "plot_tools.write_index_and_log(outdir, name)\n",
    "output_tools.copy_to_eos(outdir, out, outfolder)"
   ]
  }
 ],
 "metadata": {
  "kernelspec": {
   "display_name": "Python 3 (ipykernel)",
   "language": "python",
   "name": "python3"
  },
  "language_info": {
   "codemirror_mode": {
    "name": "ipython",
    "version": 3
   },
   "file_extension": ".py",
   "mimetype": "text/x-python",
   "name": "python",
   "nbconvert_exporter": "python",
   "pygments_lexer": "ipython3",
   "version": "3.11.6"
  }
 },
 "nbformat": 4,
 "nbformat_minor": 5
}
